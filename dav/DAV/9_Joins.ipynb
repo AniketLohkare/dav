{
 "cells": [
  {
   "cell_type": "markdown",
   "id": "82ddcdad",
   "metadata": {},
   "source": [
    "# left join, right join, outer join, inner join\n",
    "\n",
    "### Inner Join:\n",
    "\n",
    "Concept: This is the most common type of join. It selects rows from two tables where there's a matching value in the specified columns (join condition).\n",
    "Result: The resulting table includes only rows that have matches in both tables based on the join condition. Rows without matches in either table are excluded.\n",
    "\n",
    "### Left Join (LEFT OUTER Join):\n",
    "\n",
    "Concept: This join includes all rows from the left table (specified before the LEFT JOIN clause), and matching rows from the right table.\n",
    "Result: The resulting table retains all rows from the left table, even if there's no match in the right table. For unmatched rows in the right table, the corresponding join columns will contain null values.\n",
    "\n",
    "### Right Join (RIGHT OUTER Join):\n",
    "\n",
    "Concept: This join functions similarly to a left join, but reversed. It includes all rows from the right table (specified after the RIGHT JOIN clause) and matching rows from the left table.\n",
    "Result: The resulting table retains all rows from the right table, even if there's no match in the left table. Unmatched rows in the left table will have null values in the corresponding join columns.\n",
    "\n",
    "### Full Join (FULL OUTER Join):\n",
    "\n",
    "Concept: This join combines all rows from both tables, regardless of whether there's a match in the join condition.\n",
    "Result: The resulting table includes all rows from the left table, all rows from the right table, and any rows where the join condition is not met (resulting in null values in unmatched columns)."
   ]
  },
  {
   "cell_type": "code",
   "execution_count": 1,
   "id": "9c7cdca5",
   "metadata": {},
   "outputs": [],
   "source": [
    "import pandas as pd"
   ]
  },
  {
   "cell_type": "code",
   "execution_count": 7,
   "id": "9a6b4ad2",
   "metadata": {},
   "outputs": [
    {
     "name": "stdout",
     "output_type": "stream",
     "text": [
      "   ID     Name\n",
      "0   1    Alice\n",
      "1   2      Bob\n",
      "2   3  Charlie\n",
      "3   4    David\n"
     ]
    }
   ],
   "source": [
    "# Creating first DataFrame\n",
    "df1 = pd.DataFrame({\n",
    "    'ID': [1, 2, 3, 4],\n",
    "    'Name': ['Alice', 'Bob', 'Charlie', 'David']\n",
    "})\n",
    "print(df1)\n"
   ]
  },
  {
   "cell_type": "code",
   "execution_count": 8,
   "id": "0eeb95e9",
   "metadata": {},
   "outputs": [
    {
     "name": "stdout",
     "output_type": "stream",
     "text": [
      "   ID  Age\n",
      "0   3   25\n",
      "1   4   30\n",
      "2   5   35\n",
      "3   6   40\n"
     ]
    }
   ],
   "source": [
    "# Creating second DataFrame\n",
    "df2 = pd.DataFrame({\n",
    "    'ID': [3, 4, 5, 6],\n",
    "    'Age': [25, 30, 35, 40]\n",
    "})\n",
    "print(df2)"
   ]
  },
  {
   "cell_type": "code",
   "execution_count": 9,
   "id": "0283a279",
   "metadata": {},
   "outputs": [
    {
     "name": "stdout",
     "output_type": "stream",
     "text": [
      "Left Join:\n",
      "   ID     Name   Age\n",
      "0   1    Alice   NaN\n",
      "1   2      Bob   NaN\n",
      "2   3  Charlie  25.0\n",
      "3   4    David  30.0\n"
     ]
    }
   ],
   "source": [
    "# Left join\n",
    "left_join_df = pd.merge(df1, df2, on='ID', how='left')\n",
    "print(\"Left Join:\")\n",
    "print(left_join_df)"
   ]
  },
  {
   "cell_type": "code",
   "execution_count": 10,
   "id": "8e684f8a",
   "metadata": {},
   "outputs": [
    {
     "name": "stdout",
     "output_type": "stream",
     "text": [
      "\n",
      "Right Join:\n",
      "   ID     Name  Age\n",
      "0   3  Charlie   25\n",
      "1   4    David   30\n",
      "2   5      NaN   35\n",
      "3   6      NaN   40\n"
     ]
    }
   ],
   "source": [
    "# Right join\n",
    "right_join_df = pd.merge(df1, df2, on='ID', how='right')\n",
    "print(\"\\nRight Join:\")\n",
    "print(right_join_df)\n"
   ]
  },
  {
   "cell_type": "code",
   "execution_count": 11,
   "id": "c542c291",
   "metadata": {},
   "outputs": [
    {
     "name": "stdout",
     "output_type": "stream",
     "text": [
      "\n",
      "Outer Join:\n",
      "   ID     Name   Age\n",
      "0   1    Alice   NaN\n",
      "1   2      Bob   NaN\n",
      "2   3  Charlie  25.0\n",
      "3   4    David  30.0\n",
      "4   5      NaN  35.0\n",
      "5   6      NaN  40.0\n"
     ]
    }
   ],
   "source": [
    "# Outer join\n",
    "outer_join_df = pd.merge(df1, df2, on='ID', how='outer')\n",
    "print(\"\\nOuter Join:\")\n",
    "print(outer_join_df)"
   ]
  },
  {
   "cell_type": "code",
   "execution_count": 12,
   "id": "8a9d8d36",
   "metadata": {},
   "outputs": [
    {
     "name": "stdout",
     "output_type": "stream",
     "text": [
      "\n",
      "Inner Join:\n",
      "   ID     Name  Age\n",
      "0   3  Charlie   25\n",
      "1   4    David   30\n"
     ]
    }
   ],
   "source": [
    "# Inner join\n",
    "inner_join_df = pd.merge(df1, df2, on='ID', how='inner')\n",
    "print(\"\\nInner Join:\")\n",
    "print(inner_join_df)"
   ]
  },
  {
   "cell_type": "code",
   "execution_count": null,
   "id": "6dd6a75b",
   "metadata": {},
   "outputs": [],
   "source": []
  },
  {
   "cell_type": "code",
   "execution_count": null,
   "id": "89345e8b",
   "metadata": {},
   "outputs": [],
   "source": []
  }
 ],
 "metadata": {
  "kernelspec": {
   "display_name": "Python 3 (ipykernel)",
   "language": "python",
   "name": "python3"
  },
  "language_info": {
   "codemirror_mode": {
    "name": "ipython",
    "version": 3
   },
   "file_extension": ".py",
   "mimetype": "text/x-python",
   "name": "python",
   "nbconvert_exporter": "python",
   "pygments_lexer": "ipython3",
   "version": "3.10.5"
  },
  "varInspector": {
   "cols": {
    "lenName": 16,
    "lenType": 16,
    "lenVar": 40
   },
   "kernels_config": {
    "python": {
     "delete_cmd_postfix": "",
     "delete_cmd_prefix": "del ",
     "library": "var_list.py",
     "varRefreshCmd": "print(var_dic_list())"
    },
    "r": {
     "delete_cmd_postfix": ") ",
     "delete_cmd_prefix": "rm(",
     "library": "var_list.r",
     "varRefreshCmd": "cat(var_dic_list()) "
    }
   },
   "types_to_exclude": [
    "module",
    "function",
    "builtin_function_or_method",
    "instance",
    "_Feature"
   ],
   "window_display": false
  }
 },
 "nbformat": 4,
 "nbformat_minor": 5
}
